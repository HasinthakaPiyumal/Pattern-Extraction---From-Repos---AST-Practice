{
 "cells": [
  {
   "cell_type": "code",
   "execution_count": 3,
   "id": "e7230774",
   "metadata": {},
   "outputs": [],
   "source": [
    "import ast"
   ]
  },
  {
   "cell_type": "code",
   "execution_count": 23,
   "id": "9c5407cf",
   "metadata": {},
   "outputs": [],
   "source": [
    "code1 = \"\"\"\n",
    "# pets_factory.py\n",
    "\n",
    "class Dog:\n",
    "    def speak(self):\n",
    "        return \"Woof!\"\n",
    "\n",
    "class Cat:\n",
    "    def speak(self):\n",
    "        return \"Meow!\"\n",
    "\n",
    "class Bird:\n",
    "    def speak(self):\n",
    "        return \"Chirp!\"\n",
    "\n",
    "# Function to create objects dynamically\n",
    "def create_pet(pet_type):\n",
    "    pets = {\n",
    "        \"dog\": Dog,\n",
    "        \"cat\": Cat,\n",
    "        \"bird\": Bird\n",
    "    }\n",
    "    cls = pets.get(pet_type.lower())\n",
    "    if cls:\n",
    "        return cls()\n",
    "    else:\n",
    "        raise ValueError(f\"Unknown pet type: {pet_type}\")\n",
    "\n",
    "\n",
    "\"\"\"\n",
    "\n",
    "code2 = \"\"\"\n",
    "# main.py\n",
    "\n",
    "from pets_factory import create_pet\n",
    "\n",
    "def main():\n",
    "    pet_names = [\"dog\", \"cat\", \"bird\"]\n",
    "\n",
    "    for name in pet_names:\n",
    "        pet = create_pet(name)\n",
    "        print(f\"A {name} says: {pet.speak()}\")\n",
    "\n",
    "if __name__ == \"__main__\":\n",
    "    main()\n",
    "\n",
    "\"\"\""
   ]
  },
  {
   "cell_type": "code",
   "execution_count": 27,
   "id": "7c379e26",
   "metadata": {},
   "outputs": [],
   "source": [
    "tree1 = ast.parse(code1, filename=\"pets_factory.py\")\n",
    "tree2 = ast.parse(code2, filename=\"main.py\")"
   ]
  },
  {
   "cell_type": "code",
   "execution_count": 28,
   "id": "188a83b7",
   "metadata": {},
   "outputs": [
    {
     "name": "stdout",
     "output_type": "stream",
     "text": [
      "File1 Classes: ['Dog', 'Cat', 'Bird']\n",
      "File1 Functions: ['create_pet', 'speak', 'speak', 'speak']\n",
      "File2 Classes: []\n",
      "File2 Functions: ['main']\n"
     ]
    }
   ],
   "source": [
    "def get_defs(tree):\n",
    "    classes = []\n",
    "    functions = []\n",
    "    for node in ast.walk(tree):\n",
    "        if isinstance(node, ast.ClassDef):\n",
    "            classes.append(node.name)\n",
    "        elif isinstance(node, ast.FunctionDef):\n",
    "            functions.append(node.name)\n",
    "    return classes, functions\n",
    "\n",
    "classes1, funcs1 = get_defs(tree1)\n",
    "classes2, funcs2 = get_defs(tree2)\n",
    "\n",
    "print(\"File1 Classes:\", classes1)\n",
    "print(\"File1 Functions:\", funcs1)\n",
    "print(\"File2 Classes:\", classes2)\n",
    "print(\"File2 Functions:\", funcs2)\n"
   ]
  },
  {
   "cell_type": "code",
   "execution_count": 30,
   "id": "5b3e2430",
   "metadata": {},
   "outputs": [
    {
     "name": "stdout",
     "output_type": "stream",
     "text": [
      "Function calls in file2: ['main', 'create_pet', 'print', 'speak']\n"
     ]
    }
   ],
   "source": [
    "def get_func_calls(tree):\n",
    "    calls = []\n",
    "    for node in ast.walk(tree):\n",
    "        if isinstance(node, ast.Call):\n",
    "            if isinstance(node.func, ast.Name):\n",
    "                calls.append(node.func.id)\n",
    "            elif isinstance(node.func, ast.Attribute):\n",
    "                calls.append(node.func.attr)\n",
    "    return calls\n",
    "\n",
    "calls2 = get_func_calls(tree2)\n",
    "print(\"Function calls in file2:\", calls2)\n"
   ]
  },
  {
   "cell_type": "code",
   "execution_count": 31,
   "id": "9c645d21",
   "metadata": {},
   "outputs": [
    {
     "name": "stdout",
     "output_type": "stream",
     "text": [
      "Classes returned dynamically: ['cls']\n"
     ]
    }
   ],
   "source": [
    "def get_returned_classes(tree):\n",
    "    returned = []\n",
    "    for node in ast.walk(tree):\n",
    "        if isinstance(node, ast.Return):\n",
    "            if isinstance(node.value, ast.Call):\n",
    "                if isinstance(node.value.func, ast.Name):\n",
    "                    returned.append(node.value.func.id)\n",
    "    return returned\n",
    "\n",
    "returned_classes = get_returned_classes(tree1)\n",
    "print(\"Classes returned dynamically:\", returned_classes)\n"
   ]
  },
  {
   "cell_type": "code",
   "execution_count": null,
   "id": "51eb2116",
   "metadata": {},
   "outputs": [],
   "source": []
  }
 ],
 "metadata": {
  "kernelspec": {
   "display_name": ".venv",
   "language": "python",
   "name": "python3"
  },
  "language_info": {
   "codemirror_mode": {
    "name": "ipython",
    "version": 3
   },
   "file_extension": ".py",
   "mimetype": "text/x-python",
   "name": "python",
   "nbconvert_exporter": "python",
   "pygments_lexer": "ipython3",
   "version": "3.12.3"
  }
 },
 "nbformat": 4,
 "nbformat_minor": 5
}
